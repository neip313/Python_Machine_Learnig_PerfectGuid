{
 "cells": [
  {
   "cell_type": "markdown",
   "metadata": {
    "id": "U22Pjwlou5br"
   },
   "source": [
    "# 캐글 신용카드 사기 검출(Credit Card Fraud Detection)"
   ]
  },
  {
   "cell_type": "markdown",
   "metadata": {
    "id": "kh887TKLgC9s"
   },
   "source": [
    "시작하기에 앞서 알아둬야할것이 있다.  \n",
    "해당 데이터세트의 레이블인 Class 속성은 분포가 매우 불균형하다.  \n",
    "0과 1로 분류되는데 0은 정상적, 1은 사기를 의미한다.  \n",
    "근데 전체 데이터의 약 0.172%만이 1이다.  \n"
   ]
  },
  {
   "cell_type": "markdown",
   "metadata": {
    "id": "uJbZJJ0egl3O"
   },
   "source": [
    "**언더 샘플링과 오버 샘플링**  \n",
    "이와같이 분포가 불균형한 데이터 세트를 학습시킬때 예측성능의 문제가 발생할 수 있다.  \n",
    "지도학습에서 극도로 불균형한 레이블 값 분포로 인한 문제점을 해결하기 위해,  \n",
    "적절한 학습 데이터를 확보하는게 중요한데 여기에 쓰이는게 **언더 샘플링**과 **오버 샘플링**이다.  \n"
   ]
  },
  {
   "cell_type": "markdown",
   "metadata": {
    "id": "XA1mmh9ChVF9"
   },
   "source": [
    "**언더 샘플링**  \n",
    "많은 레이블을 가진 데이터 세트를 적은 레이블을 가진 데이터 세트 수준으로 감소  \n",
    "정상 레이블을 감소시켜 버리기 때문에 제대로 된 학습을 수행할 수 없어 잘 적용하지 않음  \n",
    "\n",
    "**오버 샘플링**  \n",
    "적은 레이블을 가진 데이터 세트를 많은 레이블을 가진 데이터 세트 수준으로 증식  \n",
    "동일한 데이터를 단순히 증식시키면 과적합이 되기 때문에 원본 데이터를 아주 약간만 변형시켜 증식시킨다.  \n",
    "대표적으로 **SMOTE** 방법이 있다.  \n",
    "SMOTE는 적은 데이터 세트에 있는 개별 데이터들의 K 최근접 이웃을 찾고   \n",
    "원 데이터와 이웃의 차이를 일정 값으로 만들어서  기존 데이터와 아주 약간 차이나는 새로운 데이터를 만드는 방식이다.  \n",
    "그래서 이번에는 SMOTE를 사용한다.\n"
   ]
  },
  {
   "cell_type": "markdown",
   "metadata": {
    "id": "kNZOfmyfi1iC"
   },
   "source": [
    "**데이터 일차 가공 및 모델 학습/예측/평가**"
   ]
  },
  {
   "cell_type": "code",
   "execution_count": null,
   "metadata": {
    "colab": {
     "base_uri": "https://localhost:8080/"
    },
    "id": "gqZW0OWQuw2i",
    "outputId": "502a355d-3fe3-40e7-9f6f-b63ef00a5325"
   },
   "outputs": [
    {
     "name": "stdout",
     "output_type": "stream",
     "text": [
      "Mounted at /content/gdrive\n"
     ]
    }
   ],
   "source": [
    "from google.colab import drive\n",
    "drive.mount('/content/gdrive')"
   ]
  },
  {
   "cell_type": "code",
   "execution_count": null,
   "metadata": {
    "colab": {
     "base_uri": "https://localhost:8080/",
     "height": 224
    },
    "id": "ZHlHCc4nxa1M",
    "outputId": "8b70682a-c1f1-465c-ace1-36ee40742189"
   },
   "outputs": [
    {
     "data": {
      "text/html": [
       "<div>\n",
       "<style scoped>\n",
       "    .dataframe tbody tr th:only-of-type {\n",
       "        vertical-align: middle;\n",
       "    }\n",
       "\n",
       "    .dataframe tbody tr th {\n",
       "        vertical-align: top;\n",
       "    }\n",
       "\n",
       "    .dataframe thead th {\n",
       "        text-align: right;\n",
       "    }\n",
       "</style>\n",
       "<table border=\"1\" class=\"dataframe\">\n",
       "  <thead>\n",
       "    <tr style=\"text-align: right;\">\n",
       "      <th></th>\n",
       "      <th>Time</th>\n",
       "      <th>V1</th>\n",
       "      <th>V2</th>\n",
       "      <th>V3</th>\n",
       "      <th>V4</th>\n",
       "      <th>V5</th>\n",
       "      <th>V6</th>\n",
       "      <th>V7</th>\n",
       "      <th>V8</th>\n",
       "      <th>V9</th>\n",
       "      <th>V10</th>\n",
       "      <th>V11</th>\n",
       "      <th>V12</th>\n",
       "      <th>V13</th>\n",
       "      <th>V14</th>\n",
       "      <th>V15</th>\n",
       "      <th>V16</th>\n",
       "      <th>V17</th>\n",
       "      <th>V18</th>\n",
       "      <th>V19</th>\n",
       "      <th>V20</th>\n",
       "      <th>V21</th>\n",
       "      <th>V22</th>\n",
       "      <th>V23</th>\n",
       "      <th>V24</th>\n",
       "      <th>V25</th>\n",
       "      <th>V26</th>\n",
       "      <th>V27</th>\n",
       "      <th>V28</th>\n",
       "      <th>Amount</th>\n",
       "      <th>Class</th>\n",
       "    </tr>\n",
       "  </thead>\n",
       "  <tbody>\n",
       "    <tr>\n",
       "      <th>0</th>\n",
       "      <td>0.0</td>\n",
       "      <td>-1.359807</td>\n",
       "      <td>-0.072781</td>\n",
       "      <td>2.536347</td>\n",
       "      <td>1.378155</td>\n",
       "      <td>-0.338321</td>\n",
       "      <td>0.462388</td>\n",
       "      <td>0.239599</td>\n",
       "      <td>0.098698</td>\n",
       "      <td>0.363787</td>\n",
       "      <td>0.090794</td>\n",
       "      <td>-0.551600</td>\n",
       "      <td>-0.617801</td>\n",
       "      <td>-0.991390</td>\n",
       "      <td>-0.311169</td>\n",
       "      <td>1.468177</td>\n",
       "      <td>-0.470401</td>\n",
       "      <td>0.207971</td>\n",
       "      <td>0.025791</td>\n",
       "      <td>0.403993</td>\n",
       "      <td>0.251412</td>\n",
       "      <td>-0.018307</td>\n",
       "      <td>0.277838</td>\n",
       "      <td>-0.110474</td>\n",
       "      <td>0.066928</td>\n",
       "      <td>0.128539</td>\n",
       "      <td>-0.189115</td>\n",
       "      <td>0.133558</td>\n",
       "      <td>-0.021053</td>\n",
       "      <td>149.62</td>\n",
       "      <td>0</td>\n",
       "    </tr>\n",
       "    <tr>\n",
       "      <th>1</th>\n",
       "      <td>0.0</td>\n",
       "      <td>1.191857</td>\n",
       "      <td>0.266151</td>\n",
       "      <td>0.166480</td>\n",
       "      <td>0.448154</td>\n",
       "      <td>0.060018</td>\n",
       "      <td>-0.082361</td>\n",
       "      <td>-0.078803</td>\n",
       "      <td>0.085102</td>\n",
       "      <td>-0.255425</td>\n",
       "      <td>-0.166974</td>\n",
       "      <td>1.612727</td>\n",
       "      <td>1.065235</td>\n",
       "      <td>0.489095</td>\n",
       "      <td>-0.143772</td>\n",
       "      <td>0.635558</td>\n",
       "      <td>0.463917</td>\n",
       "      <td>-0.114805</td>\n",
       "      <td>-0.183361</td>\n",
       "      <td>-0.145783</td>\n",
       "      <td>-0.069083</td>\n",
       "      <td>-0.225775</td>\n",
       "      <td>-0.638672</td>\n",
       "      <td>0.101288</td>\n",
       "      <td>-0.339846</td>\n",
       "      <td>0.167170</td>\n",
       "      <td>0.125895</td>\n",
       "      <td>-0.008983</td>\n",
       "      <td>0.014724</td>\n",
       "      <td>2.69</td>\n",
       "      <td>0</td>\n",
       "    </tr>\n",
       "    <tr>\n",
       "      <th>2</th>\n",
       "      <td>1.0</td>\n",
       "      <td>-1.358354</td>\n",
       "      <td>-1.340163</td>\n",
       "      <td>1.773209</td>\n",
       "      <td>0.379780</td>\n",
       "      <td>-0.503198</td>\n",
       "      <td>1.800499</td>\n",
       "      <td>0.791461</td>\n",
       "      <td>0.247676</td>\n",
       "      <td>-1.514654</td>\n",
       "      <td>0.207643</td>\n",
       "      <td>0.624501</td>\n",
       "      <td>0.066084</td>\n",
       "      <td>0.717293</td>\n",
       "      <td>-0.165946</td>\n",
       "      <td>2.345865</td>\n",
       "      <td>-2.890083</td>\n",
       "      <td>1.109969</td>\n",
       "      <td>-0.121359</td>\n",
       "      <td>-2.261857</td>\n",
       "      <td>0.524980</td>\n",
       "      <td>0.247998</td>\n",
       "      <td>0.771679</td>\n",
       "      <td>0.909412</td>\n",
       "      <td>-0.689281</td>\n",
       "      <td>-0.327642</td>\n",
       "      <td>-0.139097</td>\n",
       "      <td>-0.055353</td>\n",
       "      <td>-0.059752</td>\n",
       "      <td>378.66</td>\n",
       "      <td>0</td>\n",
       "    </tr>\n",
       "    <tr>\n",
       "      <th>3</th>\n",
       "      <td>1.0</td>\n",
       "      <td>-0.966272</td>\n",
       "      <td>-0.185226</td>\n",
       "      <td>1.792993</td>\n",
       "      <td>-0.863291</td>\n",
       "      <td>-0.010309</td>\n",
       "      <td>1.247203</td>\n",
       "      <td>0.237609</td>\n",
       "      <td>0.377436</td>\n",
       "      <td>-1.387024</td>\n",
       "      <td>-0.054952</td>\n",
       "      <td>-0.226487</td>\n",
       "      <td>0.178228</td>\n",
       "      <td>0.507757</td>\n",
       "      <td>-0.287924</td>\n",
       "      <td>-0.631418</td>\n",
       "      <td>-1.059647</td>\n",
       "      <td>-0.684093</td>\n",
       "      <td>1.965775</td>\n",
       "      <td>-1.232622</td>\n",
       "      <td>-0.208038</td>\n",
       "      <td>-0.108300</td>\n",
       "      <td>0.005274</td>\n",
       "      <td>-0.190321</td>\n",
       "      <td>-1.175575</td>\n",
       "      <td>0.647376</td>\n",
       "      <td>-0.221929</td>\n",
       "      <td>0.062723</td>\n",
       "      <td>0.061458</td>\n",
       "      <td>123.50</td>\n",
       "      <td>0</td>\n",
       "    </tr>\n",
       "    <tr>\n",
       "      <th>4</th>\n",
       "      <td>2.0</td>\n",
       "      <td>-1.158233</td>\n",
       "      <td>0.877737</td>\n",
       "      <td>1.548718</td>\n",
       "      <td>0.403034</td>\n",
       "      <td>-0.407193</td>\n",
       "      <td>0.095921</td>\n",
       "      <td>0.592941</td>\n",
       "      <td>-0.270533</td>\n",
       "      <td>0.817739</td>\n",
       "      <td>0.753074</td>\n",
       "      <td>-0.822843</td>\n",
       "      <td>0.538196</td>\n",
       "      <td>1.345852</td>\n",
       "      <td>-1.119670</td>\n",
       "      <td>0.175121</td>\n",
       "      <td>-0.451449</td>\n",
       "      <td>-0.237033</td>\n",
       "      <td>-0.038195</td>\n",
       "      <td>0.803487</td>\n",
       "      <td>0.408542</td>\n",
       "      <td>-0.009431</td>\n",
       "      <td>0.798278</td>\n",
       "      <td>-0.137458</td>\n",
       "      <td>0.141267</td>\n",
       "      <td>-0.206010</td>\n",
       "      <td>0.502292</td>\n",
       "      <td>0.219422</td>\n",
       "      <td>0.215153</td>\n",
       "      <td>69.99</td>\n",
       "      <td>0</td>\n",
       "    </tr>\n",
       "  </tbody>\n",
       "</table>\n",
       "</div>"
      ],
      "text/plain": [
       "   Time        V1        V2        V3  ...       V27       V28  Amount  Class\n",
       "0   0.0 -1.359807 -0.072781  2.536347  ...  0.133558 -0.021053  149.62      0\n",
       "1   0.0  1.191857  0.266151  0.166480  ... -0.008983  0.014724    2.69      0\n",
       "2   1.0 -1.358354 -1.340163  1.773209  ... -0.055353 -0.059752  378.66      0\n",
       "3   1.0 -0.966272 -0.185226  1.792993  ...  0.062723  0.061458  123.50      0\n",
       "4   2.0 -1.158233  0.877737  1.548718  ...  0.219422  0.215153   69.99      0\n",
       "\n",
       "[5 rows x 31 columns]"
      ]
     },
     "execution_count": 2,
     "metadata": {
      "tags": []
     },
     "output_type": "execute_result"
    }
   ],
   "source": [
    "import pandas as pd\n",
    "import numpy as np\n",
    "import matplotlib.pyplot as plt\n",
    "import warnings\n",
    "warnings.filterwarnings('ignore')\n",
    "%matplotlib inline\n",
    "from sklearn.metrics import accuracy_score, precision_score, recall_score, confusion_matrix, f1_score, roc_auc_score, precision_recall_curve\n",
    "\n",
    "card_df = pd.read_csv('/content/gdrive/My Drive/Colab Notebooks/data/creditcard/creditcard.csv')\n",
    "card_df.head(5)"
   ]
  },
  {
   "cell_type": "markdown",
   "metadata": {
    "id": "GIPS8f43i7En"
   },
   "source": [
    "V로 시작하는 피처들은 의미불명이다.  \n",
    "Time 피처의 경우 데이터 생성 관련 작업용 속성으로 그냥 지워도 상관없을듯하다.  \n",
    " \n"
   ]
  },
  {
   "cell_type": "code",
   "execution_count": null,
   "metadata": {
    "id": "A4bwPGX_xv21"
   },
   "outputs": [],
   "source": [
    "from sklearn.model_selection import train_test_split\n",
    "\n",
    "# 인자로 입력받은 DataFrame을 복사한 뒤 Time 칼럼만 삭제하고 복사된 DataFrame 반환\n",
    "def get_preprocessed_df(df=None):\n",
    "  df_copy = df.copy()\n",
    "  df_copy.drop('Time', axis=1, inplace=True)\n",
    "  return df_copy"
   ]
  },
  {
   "cell_type": "code",
   "execution_count": null,
   "metadata": {
    "id": "n6Mx4Kr60y_t"
   },
   "outputs": [],
   "source": [
    "# 사전 데이터 가공 후 학습과 테스트 데이터 세트를 반환하는 함수.\n",
    "def get_train_test_dataset(df=None):\n",
    "  # 인자로 입력된 DataFrame의 사전 데이터 가공이 완료된 복사 DataFrame 반환\n",
    "  df_copy = get_preprocessed_df(df)\n",
    "  # DataFrame의 맨 마지막 칼럼이 레이블, 나머지는 피처들\n",
    "  X_features = df_copy.iloc[:, :-1]\n",
    "  y_target = df_copy.iloc[:, -1]\n",
    "  # train_test_split()으로 학습과 테스트 데이터 분할. stratify=y_target으로 Stratified 기반 분할\n",
    "  X_train, X_test, y_train, y_test = \\\n",
    "  train_test_split(X_features, y_target, test_size=0.3, random_state=0, stratify=y_target)\n",
    "  # 학습과 테스트 데이터 세트 반환\n",
    "  return X_train, X_test, y_train, y_test\n",
    "\n",
    "X_train, X_test, y_train, y_test = get_train_test_dataset(card_df)"
   ]
  },
  {
   "cell_type": "markdown",
   "metadata": {
    "id": "L0e6CEovkxf5"
   },
   "source": [
    "생성한 학습 데이터 세트와 테스트 데이터 세트의 레이블 값 비율을 백분율로 환산해서 비슷하게 분할되었는지 확인한다.  "
   ]
  },
  {
   "cell_type": "code",
   "execution_count": null,
   "metadata": {
    "colab": {
     "base_uri": "https://localhost:8080/"
    },
    "id": "cz7ADGKH2gBs",
    "outputId": "2c9338c5-7225-40a6-e4c3-ab2fe116f3d5"
   },
   "outputs": [
    {
     "name": "stdout",
     "output_type": "stream",
     "text": [
      "학습 데이터 레이블 값 비율\n",
      "0    99.827451\n",
      "1     0.172549\n",
      "Name: Class, dtype: float64\n",
      "테스트 데이터 레이블 값 비율\n",
      "0    99.826785\n",
      "1     0.173215\n",
      "Name: Class, dtype: float64\n"
     ]
    }
   ],
   "source": [
    "print('학습 데이터 레이블 값 비율')\n",
    "print(y_train.value_counts()/y_train.shape[0] * 100)\n",
    "print('테스트 데이터 레이블 값 비율')\n",
    "print(y_test.value_counts()/y_test.shape[0] * 100)"
   ]
  },
  {
   "cell_type": "markdown",
   "metadata": {
    "id": "WzXlShyzk_cU"
   },
   "source": [
    "로지스틱 회귀와 LightGBM 기반의 모델로 예측성능이 어떻게 변하는지 살펴볼것이다.  \n",
    "먼저 로지스틱 회귀를 이용해 신용카드 사기 여부를 예측해보려한다.  "
   ]
  },
  {
   "cell_type": "code",
   "execution_count": null,
   "metadata": {
    "id": "D4-wHN-1-fTK"
   },
   "outputs": [],
   "source": [
    "# 3장에서 사용한 예측 성능 평가 함수\n",
    "def get_clf_eval(y_test, pred=None, pred_proba=None):\n",
    "  confusion = confusion_matrix(y_test, pred)\n",
    "  accuracy = accuracy_score(y_test, pred)\n",
    "  precision = precision_score(y_test, pred)\n",
    "  recall = recall_score(y_test, pred)\n",
    "  f1 = f1_score(y_test, pred)\n",
    "  roc_auc = roc_auc_score(y_test, pred_proba)\n",
    "  print('오차 행렬')\n",
    "  print(confusion)\n",
    "  print('정확도: {0: .4f}, 정밀도: {1: 4f}, 재현율: {2: .4f},  F1: {3: .4f}, AUC: {4: .4f}'.format(accuracy,precision, recall, f1, roc_auc))"
   ]
  },
  {
   "cell_type": "code",
   "execution_count": null,
   "metadata": {
    "colab": {
     "base_uri": "https://localhost:8080/"
    },
    "id": "1pwFxWmR3IWz",
    "outputId": "0527620b-6448-4048-fd3a-183b0f2608ff"
   },
   "outputs": [
    {
     "name": "stdout",
     "output_type": "stream",
     "text": [
      "오차 행렬\n",
      "[[85283    12]\n",
      " [   60    88]]\n",
      "정확도:  0.9992, 정밀도:  0.880000, 재현율:  0.5946,  F1:  0.7097, AUC:  0.9609\n"
     ]
    }
   ],
   "source": [
    "from sklearn.linear_model import LogisticRegression\n",
    "\n",
    "lr_clf = LogisticRegression()\n",
    "lr_clf.fit(X_train, y_train)\n",
    "lr_pred = lr_clf.predict(X_test)\n",
    "lr_pred_proba = lr_clf.predict_proba(X_test)[:, 1]\n",
    "\n",
    "# 3장에서 사용한 get_clf_eval() 함수를 이용해 평가 수행\n",
    "get_clf_eval(y_test, lr_pred, lr_pred_proba)"
   ]
  },
  {
   "cell_type": "code",
   "execution_count": null,
   "metadata": {
    "id": "Vft_Va3EDH-r"
   },
   "outputs": [],
   "source": [
    "# 인자로 사이킷런의 Estimator 객체와 학습/테스트 데이터 세트를 입력받아서 학습/예측/평가 수행.\n",
    "def get_model_train_eval(model, ftr_train=None, ftr_test=None, tgt_train=None, tgt_test=None):\n",
    "  model.fit(ftr_train, tgt_train)\n",
    "  pred = model.predict(ftr_test)\n",
    "  pred_proba = model.predict_proba(ftr_test)[:, 1]\n",
    "  get_clf_eval(tgt_test, pred, pred_proba)"
   ]
  },
  {
   "cell_type": "markdown",
   "metadata": {
    "id": "AUpjykmqoAF3"
   },
   "source": [
    "LightGBM을 이용한 모델"
   ]
  },
  {
   "cell_type": "code",
   "execution_count": null,
   "metadata": {
    "colab": {
     "base_uri": "https://localhost:8080/"
    },
    "id": "OG23jw22E7U6",
    "outputId": "c2578fc6-d53f-44ca-b2e8-c3b826e800a5"
   },
   "outputs": [
    {
     "name": "stdout",
     "output_type": "stream",
     "text": [
      "오차 행렬\n",
      "[[85289     6]\n",
      " [   36   112]]\n",
      "정확도:  0.9995, 정밀도:  0.949153, 재현율:  0.7568,  F1:  0.8421, AUC:  0.9797\n"
     ]
    }
   ],
   "source": [
    "from lightgbm import LGBMClassifier\n",
    "\n",
    "lgbm_clf = LGBMClassifier(n_estimators=1000, num_leaves=64, n_jobs=-1, boost_from_average=False)\n",
    "get_model_train_eval(lgbm_clf, ftr_train=X_train, ftr_test=X_test, tgt_train=y_train, tgt_test=y_test)"
   ]
  },
  {
   "cell_type": "markdown",
   "metadata": {
    "id": "uCsbgJCSoEM8"
   },
   "source": [
    "**주의할 점**  \n",
    "LightGBM이 버전업 되면서 boost_from_average의 디폴트값이 True로 변경되었다.  \n",
    "이번과 같이 레이블값이 극단적으로 불균형한 경우 True 설정은 재현률 및 ROC-AUC 성능을 매우 크게 저하시킨다.  \n",
    "LightGBM 버전이 2.1.0 이상이거나 데이터 세트의 레이블이 불균형한 경우,  \n",
    "LGBMClassifier의 boost_from_average 값을 False로 설정해야한다.  "
   ]
  },
  {
   "cell_type": "markdown",
   "metadata": {
    "id": "3zSvCZtTpAW0"
   },
   "source": [
    "**데이터 분포도 변환 후 모델 학습/평가**  \n"
   ]
  },
  {
   "cell_type": "code",
   "execution_count": null,
   "metadata": {
    "colab": {
     "base_uri": "https://localhost:8080/",
     "height": 320
    },
    "id": "jy2M1g_gHcpR",
    "outputId": "d8cbd68b-59f8-4f2e-c39e-07bc66ae4cf5"
   },
   "outputs": [
    {
     "data": {
      "text/plain": [
       "<matplotlib.axes._subplots.AxesSubplot at 0x7f6fdf85d2b0>"
      ]
     },
     "execution_count": 10,
     "metadata": {
      "tags": []
     },
     "output_type": "execute_result"
    },
    {
     "data": {
      "image/png": "[encoded data removed]",
      "text/plain": [
       "<Figure size 576x288 with 1 Axes>"
      ]
     },
     "metadata": {
      "needs_background": "light",
      "tags": []
     },
     "output_type": "display_data"
    }
   ],
   "source": [
    "import seaborn as sns\n",
    "plt.figure(figsize=(8, 4))\n",
    "plt.xticks(range(0, 30000, 1000), rotation=60)\n",
    "sns.distplot(card_df['Amount'])"
   ]
  },
  {
   "cell_type": "markdown",
   "metadata": {
    "id": "iTBIJIm7pSwO"
   },
   "source": [
    "카드 사용금액이 1000불 이하인 데이터가 대부분이고 적지만 많은 금액을 사용한 경우가 발생한것을 알 수 있다.  \n",
    "사용금액을 정규분포 형태로 변환한 뒤에 로지스틱 회귀의 예측 성능을 측정해본다.  "
   ]
  },
  {
   "cell_type": "code",
   "execution_count": null,
   "metadata": {
    "id": "7Y1kj7nEHypD"
   },
   "outputs": [],
   "source": [
    "from sklearn.preprocessing import StandardScaler\n",
    "# 사이킷런의 StandardScaler를 이용해 정규 분포 형태로 Amount 피처값 변환하는 로직으로 수정.\n",
    "\n",
    "def get_preprocessed_df(df=None):\n",
    "  df_copy = df.copy()\n",
    "  scaler = StandardScaler()\n",
    "  amount_n = scaler.fit_transform(df_copy['Amount'].values.reshape(-1,1))\n",
    "  # 변환된 Amount를 Amount_scaled로 피처명 변경 후 DataFrame맨 앞 칼럼으로 입력\n",
    "  df_copy.insert(0, 'Amount_scaled', amount_n)\n",
    "  # 기존 Time, Amount 피처 삭제\n",
    "  df_copy.drop(['Time','Amount'], axis=1, inplace=True)\n",
    "  return df_copy"
   ]
  },
  {
   "cell_type": "code",
   "execution_count": null,
   "metadata": {
    "colab": {
     "base_uri": "https://localhost:8080/"
    },
    "id": "_Bmfj4pPKC0J",
    "outputId": "9e142927-5a70-40c3-f18f-a790ecd42586"
   },
   "outputs": [
    {
     "name": "stdout",
     "output_type": "stream",
     "text": [
      "### 로지스틱 회귀 예측 성능 ###\n",
      "오차 행렬\n",
      "[[85281    14]\n",
      " [   58    90]]\n",
      "정확도:  0.9992, 정밀도:  0.865385, 재현율:  0.6081,  F1:  0.7143, AUC:  0.9702\n",
      "### LIghtGBM 예측 성능 ###\n",
      "오차 행렬\n",
      "[[85289     6]\n",
      " [   36   112]]\n",
      "정확도:  0.9995, 정밀도:  0.949153, 재현율:  0.7568,  F1:  0.8421, AUC:  0.9773\n"
     ]
    }
   ],
   "source": [
    "# Amount를 정규 분포 형태로 변환 후 로지스틱 회귀 및 LightGBM 수행\n",
    "X_train, X_test, y_train, y_test = get_train_test_dataset(card_df)\n",
    "\n",
    "print('### 로지스틱 회귀 예측 성능 ###')\n",
    "lr_clf = LogisticRegression()\n",
    "get_model_train_eval(lr_clf, ftr_train=X_train, ftr_test=X_test, tgt_train=y_train, tgt_test=y_test)\n",
    "\n",
    "print('### LIghtGBM 예측 성능 ###')\n",
    "lgbm_clf = LGBMClassifier(n_estimators=1000, num_leaves=64, n_jobs=-1,  boost_from_average=False)\n",
    "get_model_train_eval(lgbm_clf, ftr_train=X_train, ftr_test=X_test, tgt_train=y_train, tgt_test= y_test)"
   ]
  },
  {
   "cell_type": "markdown",
   "metadata": {
    "id": "47xKSVjWqGh0"
   },
   "source": [
    "그렇게 눈에 띄는 성능 개선은 없는듯하다.  \n",
    "다음으로는 로그 변환 방법을 사용해본다.  \n",
    "로그변환은 데이터 분포도가 심하게 왜곡되어 있을 경우 적용하는 중요 기법중 하나이다.  \n",
    "원래 값을 log값으로 변환해 원래 큰 값을 상대적으로 적은 값으로 변환하기 때문에  \n",
    "데이터 분포도의 왜곡을 상당수준 개선해준다.  "
   ]
  },
  {
   "cell_type": "code",
   "execution_count": null,
   "metadata": {
    "id": "q97DRQ_BMfny"
   },
   "outputs": [],
   "source": [
    "def get_preprocessed_df(df=None):\n",
    "  df_copy = df.copy()\n",
    "  # 넘파이의 log1p()를 이용해 Amount를 로그 변환\n",
    "  amount_n = np.log1p(df_copy['Amount'])\n",
    "  df_copy.insert(0, 'Amount_Scaled', amount_n)\n",
    "  df_copy.drop(['Time', 'Amount'], axis=1, inplace=True)\n",
    "  return df_copy"
   ]
  },
  {
   "cell_type": "code",
   "execution_count": null,
   "metadata": {
    "colab": {
     "base_uri": "https://localhost:8080/"
    },
    "id": "dgGz6C82NATB",
    "outputId": "b51248c2-b657-4f89-8e51-67261eee140a"
   },
   "outputs": [
    {
     "name": "stdout",
     "output_type": "stream",
     "text": [
      "### 로지스틱 회귀 예측 성능 ###\n",
      "오차 행렬\n",
      "[[85283    12]\n",
      " [   59    89]]\n",
      "정확도:  0.9992, 정밀도:  0.881188, 재현율:  0.6014,  F1:  0.7149, AUC:  0.9727\n",
      "### LightGBM 예측 성능 ###\n",
      "오차 행렬\n",
      "[[85290     5]\n",
      " [   35   113]]\n",
      "정확도:  0.9995, 정밀도:  0.957627, 재현율:  0.7635,  F1:  0.8496, AUC:  0.9786\n"
     ]
    }
   ],
   "source": [
    "X_train, X_test, y_train, y_test = get_train_test_dataset(card_df)\n",
    "\n",
    "print('### 로지스틱 회귀 예측 성능 ###')\n",
    "get_model_train_eval(lr_clf, ftr_train=X_train, ftr_test=X_test, tgt_train=y_train, tgt_test=y_test)\n",
    "\n",
    "print('### LightGBM 예측 성능 ###')\n",
    "get_model_train_eval(lgbm_clf, ftr_train=X_train, ftr_test=X_test, tgt_train=y_train, tgt_test=y_test)"
   ]
  },
  {
   "cell_type": "markdown",
   "metadata": {
    "id": "_V6KFklZN9dD"
   },
   "source": [
    "# 이상치 데이터 제거 후 모델 학습/예측/평가"
   ]
  },
  {
   "cell_type": "markdown",
   "metadata": {
    "id": "8KKQeNPlqxkO"
   },
   "source": [
    "이상치 데이터는 전체 데이터의 패턴에서 벗어난 이상 값을 의미한다.  \n",
    "이상치로 인해 머신러닝 모델의 성능에 영향을 받는 경우가 발생하기 쉽다.  \n",
    "이번에는 이상치를 찾아내고 제거한뒤 다시 모델을 평가해보려한다.  \n",
    "  "
   ]
  },
  {
   "cell_type": "markdown",
   "metadata": {
    "id": "n3orjdrvuAAG"
   },
   "source": [
    "이상치를 찾는 방법은 여러가지가 있지만, 이 중에서 IQR 방식을 사용해보려한다.  \n",
    "IQR은 사분위 값의 편차를 이용하는 기법으로 흔히 박스 플롯으로 시각화한다.  \n"
   ]
  },
  {
   "cell_type": "markdown",
   "metadata": {
    "id": "rQgexhpWuWGe"
   },
   "source": [
    "**사분위**\n",
    "사분위는 전체 데이트를 값이 높은 순으로 정렬하고, 이를 1/4(25%)씩으로 구간을 분할하는 것을 지칭한다.  \n",
    "아래와 같이 표현할 수 있다.  \n",
    "![IQR.PNG](data:image/png;base64,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)"
   ]
  },
  {
   "cell_type": "markdown",
   "metadata": {
    "id": "lZwaD19vwwrL"
   },
   "source": [
    "3/4 분위수에 IQR * 1.5를 더해 최댓값으로 지정하고,  \n",
    "1/4 분위수에 IQR * 1.5를 빼서 최솟값으로 지정한다.  \n",
    "이렇게 결정된 최댓값보다 큰 값, 또는 최소값보다 작은 값 을 이상치 데이터로 간주한다.  "
   ]
  },
  {
   "cell_type": "markdown",
   "metadata": {
    "id": "t0v3yFnvxNHi"
   },
   "source": [
    "이제 이상치를 제거할건데 어떤 피처의 이상치 데이터를 검출할 것인지 선택이 필요하다  \n",
    "heatmap을 통해 알아보는게 좋을듯하다.  "
   ]
  },
  {
   "cell_type": "code",
   "execution_count": null,
   "metadata": {
    "colab": {
     "base_uri": "https://localhost:8080/",
     "height": 588
    },
    "id": "Ukd_6a56OEjD",
    "outputId": "32a4fe3c-d4b6-4beb-e2c4-3edfc824eabb"
   },
   "outputs": [
    {
     "data": {
      "text/plain": [
       "<matplotlib.axes._subplots.AxesSubplot at 0x7f6fddfea438>"
      ]
     },
     "execution_count": 15,
     "metadata": {
      "tags": []
     },
     "output_type": "execute_result"
    },
    {
     "data": {
      "image/png": "[encoded data removed]",
      "text/plain": [
       "<Figure size 648x648 with 2 Axes>"
      ]
     },
     "metadata": {
      "needs_background": "light",
      "tags": []
     },
     "output_type": "display_data"
    }
   ],
   "source": [
    "import seaborn as sns\n",
    "\n",
    "plt.figure(figsize=(9,9))\n",
    "corr = card_df.corr()\n",
    "sns.heatmap(corr, cmap='RdBu')"
   ]
  },
  {
   "cell_type": "markdown",
   "metadata": {
    "id": "dS-8riMmxapK"
   },
   "source": [
    "상관관계 히트맵에서 cmap을 'RdBu'로 설정해 양의 상관관계가 높을수록 파란색,  \n",
    "음의 상관관계가 높을수록 빨간색으로 표현된다.  \n",
    "결정 레이블인 Class와 음의 상관관계가 높은 V14, V17 두개인데 여기에서는 V14에서 이상치를 제거해보려한다.  \n"
   ]
  },
  {
   "cell_type": "code",
   "execution_count": null,
   "metadata": {
    "id": "HH7hKGQsOZjx"
   },
   "outputs": [],
   "source": [
    "import numpy as np\n",
    "\n",
    "def get_outlier(df=None, column=None, weight=1.5):\n",
    "  # fraud에 해당하는 column 데이터만 추출, 1/4분위와 3/4 분위 지점을 np.percentile로 구함.\n",
    "  fraud = df[df['Class']==1][column]\n",
    "  quantile_25 = np.percentile(fraud.values, 25)\n",
    "  quantile_75 = np.percentile(fraud.values, 75)\n",
    "  # IQR을 구하고 , IQR에 1.5를 곱해 최댓값과 최솟값 지점 구함.\n",
    "  iqr = quantile_75 - quantile_25\n",
    "  iqr_weight = iqr * weight\n",
    "  lowest_val = quantile_25 - iqr_weight\n",
    "  highest_val = quantile_75 + iqr_weight\n",
    "  # 최댓값보다 크거나, 최솟값보다 작은 값을 이상치 데이터로 설정하고 DataFrame index 반환\n",
    "  outlier_index = fraud[(fraud < lowest_val) | (fraud > highest_val)].index\n",
    "  return outlier_index"
   ]
  },
  {
   "cell_type": "code",
   "execution_count": null,
   "metadata": {
    "colab": {
     "base_uri": "https://localhost:8080/"
    },
    "id": "9zpBmNEJOZjA",
    "outputId": "479ae606-c8c4-4059-9ddd-22be8c784cf1"
   },
   "outputs": [
    {
     "name": "stdout",
     "output_type": "stream",
     "text": [
      "이상치 데이터 인덱스: Int64Index([8296, 8615, 9035, 9252], dtype='int64')\n"
     ]
    }
   ],
   "source": [
    "outlier_index = get_outlier(df=card_df, column='V14', weight=1.5)\n",
    "print('이상치 데이터 인덱스:',outlier_index)"
   ]
  },
  {
   "cell_type": "code",
   "execution_count": null,
   "metadata": {
    "colab": {
     "base_uri": "https://localhost:8080/"
    },
    "id": "YLp76JDUSWCR",
    "outputId": "305ce481-766e-4c68-acf2-e505c14f05e1"
   },
   "outputs": [
    {
     "name": "stdout",
     "output_type": "stream",
     "text": [
      "### 로지스틱 회귀 예측 성능 ###\n",
      "오차 행렬\n",
      "[[85281    14]\n",
      " [   48    98]]\n",
      "정확도:  0.9993, 정밀도:  0.875000, 재현율:  0.6712,  F1:  0.7597, AUC:  0.9743\n",
      "### LightGBM 예측 성능 ###\n",
      "오차 행렬\n",
      "[[85291     4]\n",
      " [   25   121]]\n",
      "정확도:  0.9997, 정밀도:  0.968000, 재현율:  0.8288,  F1:  0.8930, AUC:  0.9831\n"
     ]
    }
   ],
   "source": [
    "# get_provessed_df()를 로그 변환 후 V14 피처의 이상치 데이터를 삭제하는 로직으로 변경.\n",
    "def get_preprocessed_df(df=None):\n",
    "  df_copy = df.copy()\n",
    "  amount_n = np.log1p(df_copy['Amount'])\n",
    "  df_copy.insert(0, 'Amount_Scaled', amount_n)\n",
    "  df_copy.drop(['Time','Amount'], axis=1, inplace=True)\n",
    "  # 이상치 데이터 삭제하는 로직 추가\n",
    "  outlier_index = get_outlier(df=df_copy, column='V14', weight=1.5)\n",
    "  df_copy.drop(outlier_index, axis=0, inplace=True)\n",
    "  return df_copy\n",
    "\n",
    "X_train, X_test, y_train, y_test = get_train_test_dataset(card_df)\n",
    "print('### 로지스틱 회귀 예측 성능 ###')\n",
    "get_model_train_eval(lr_clf, ftr_train=X_train, ftr_test=X_test, tgt_train=y_train, tgt_test=y_test)\n",
    "\n",
    "print('### LightGBM 예측 성능 ###')\n",
    "get_model_train_eval(lgbm_clf, ftr_train=X_train, ftr_test=X_test, tgt_train=y_train, tgt_test=y_test)"
   ]
  },
  {
   "cell_type": "markdown",
   "metadata": {
    "id": "ZvwTZij3yRqh"
   },
   "source": [
    "**SMOTE 오버 샘플링 적용 후 모델 학습/예측/평가**  \n",
    "주의할점 - SMOTE를 적용할때는 반드시 학습 데이터만 오버 샘플링 해야한다."
   ]
  },
  {
   "cell_type": "code",
   "execution_count": null,
   "metadata": {
    "colab": {
     "base_uri": "https://localhost:8080/"
    },
    "id": "G-Y8zW73XStg",
    "outputId": "8869f778-71fd-4098-cc50-d7a7e2dc0c97"
   },
   "outputs": [
    {
     "name": "stdout",
     "output_type": "stream",
     "text": [
      "SMOTE 적용 전 학습용 피처/레이블 데이터 세트:  (199362, 29) (199362,)\n",
      "SMOTE 적용 후 학습용 피처/레이블 데이터 세트:  (398040, 29) (398040,)\n",
      "SMOTE 적용 후 레이블 값 분포: \n",
      " 1    199020\n",
      "0    199020\n",
      "dtype: int64\n"
     ]
    }
   ],
   "source": [
    "from imblearn.over_sampling import SMOTE\n",
    "\n",
    "smote = SMOTE(random_state=0)\n",
    "X_train_over, y_train_over = smote.fit_sample(X_train, y_train)\n",
    "print('SMOTE 적용 전 학습용 피처/레이블 데이터 세트: ',X_train.shape, y_train.shape)\n",
    "print('SMOTE 적용 후 학습용 피처/레이블 데이터 세트: ',X_train_over.shape, y_train_over.shape)\n",
    "print('SMOTE 적용 후 레이블 값 분포: \\n', pd.Series(y_train_over).value_counts())"
   ]
  },
  {
   "cell_type": "code",
   "execution_count": null,
   "metadata": {
    "colab": {
     "base_uri": "https://localhost:8080/"
    },
    "id": "5eeX5kTZYV3g",
    "outputId": "6ea5d74b-1d7a-4b46-f1a8-fb3e655647f8"
   },
   "outputs": [
    {
     "name": "stdout",
     "output_type": "stream",
     "text": [
      "오차 행렬\n",
      "[[82937  2358]\n",
      " [   11   135]]\n",
      "정확도:  0.9723, 정밀도:  0.054152, 재현율:  0.9247,  F1:  0.1023, AUC:  0.9737\n"
     ]
    }
   ],
   "source": [
    "lr_clf = LogisticRegression()\n",
    "# ftr_train과 tgt_train 인자값이 SMOTE 증식된 X_train_over와 y_train_over로 변경됨에 유의\n",
    "get_model_train_eval(lr_clf, ftr_train=X_train_over, ftr_test=X_test, tgt_train=y_train_over, tgt_test=y_test)"
   ]
  },
  {
   "cell_type": "code",
   "execution_count": null,
   "metadata": {
    "id": "7Xv6VZHrZqoo"
   },
   "outputs": [],
   "source": [
    "def precision_recall_curve_plot(y_test, pred_proba_c1):\n",
    "  # threshold ndarray와 이 threshold에 따른 정밀도, 재현율 ndarray 추출\n",
    "  precisions, recalls, thresholds = precision_recall_curve( y_test, pred_proba_c1)\n",
    "\n",
    "  # X축을 thershold 값으로, Y축은 정밀도, 재현율 값으로 각각 Plot 수행.  정밀도는 점선으로 표시\n",
    "  plt.figure(figsize = (8, 6))\n",
    "  threshold_boundary = thresholds.shape[0]\n",
    "  plt.plot(thresholds, precisions[0: threshold_boundary], linestyle='--', label='precision')\n",
    "  plt.plot(thresholds, recalls[0:threshold_boundary], label='recall')\n",
    "\n",
    "  # threshlod 값 X 축의 Scale을 0.1 단위로 변경 \n",
    "  start, end = plt.xlim()\n",
    "  plt.xticks(np.round(np.arange(start, end, 0.1), 2))\n",
    "\n",
    "  # X축, y축 label과 legend, 그리고 grid 설정\n",
    "  plt.xlabel(\"Threshold value\"); plt.ylabel('Precision and Recall value')\n",
    "  plt.legend(); plt.grid()\n",
    "  plt.show()"
   ]
  },
  {
   "cell_type": "code",
   "execution_count": null,
   "metadata": {
    "colab": {
     "base_uri": "https://localhost:8080/",
     "height": 388
    },
    "id": "f_ywME_TZMpJ",
    "outputId": "09fe2b65-f5fd-463b-e48d-fceb60e89be7"
   },
   "outputs": [
    {
     "data": {
      "image/png": "[encoded data removed]",
      "text/plain": [
       "<Figure size 576x432 with 1 Axes>"
      ]
     },
     "metadata": {
      "needs_background": "light",
      "tags": []
     },
     "output_type": "display_data"
    }
   ],
   "source": [
    "precision_recall_curve_plot( y_test, lr_clf.predict_proba(X_test)[:, 1])"
   ]
  },
  {
   "cell_type": "code",
   "execution_count": null,
   "metadata": {
    "colab": {
     "base_uri": "https://localhost:8080/"
    },
    "id": "jTKF4_gfndyM",
    "outputId": "02edfe25-0bd0-4bcd-db75-cd6525ef5d5c"
   },
   "outputs": [
    {
     "name": "stdout",
     "output_type": "stream",
     "text": [
      "오차 행렬\n",
      "[[85286     9]\n",
      " [   22   124]]\n",
      "정확도:  0.9996, 정밀도:  0.932331, 재현율:  0.8493,  F1:  0.8889, AUC:  0.9789\n"
     ]
    }
   ],
   "source": [
    "lgbm_clf = LGBMClassifier(n_estimators=1000, num_leaves=64, n_jobs=-1,  boost_from_average=False)\n",
    "get_model_train_eval(lgbm_clf, ftr_train=X_train_over, ftr_test=X_test, tgt_train=y_train_over, tgt_test= y_test)"
   ]
  },
  {
   "cell_type": "markdown",
   "metadata": {
    "id": "xNgDxNZYoV_W"
   },
   "source": [
    "# 데이터 가공 및 로지스틱 회귀와 LightGBM 적용 결과"
   ]
  },
  {
   "cell_type": "markdown",
   "metadata": {
    "id": "jsZeo49Bo4tU"
   },
   "source": [
    "![분석 실습.PNG](data:image/png;base64,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)"
   ]
  },
  {
   "cell_type": "markdown",
   "metadata": {
    "id": "psCoRxVRq5Yl"
   },
   "source": [
    "# 스태킹 앙상블\n",
    "\n",
    "**스태킹 : 개별적인 여러 알고리즘을 서로 결합해 예측결과를 도출하는것**  \n",
    "배깅&부스팅과의 차이점은 개별 알고리즘으로 예측한 데이터를 기반으로 다시 예측을 수행한다는것  \n",
    "스태킹 모델은 두 종류의 모델이 필요한데 **첫번째**는 개별적인 기반 모델이고,  \n",
    "**두번째**는 위의 개별 기반 모델의 예측 데이터를 학습 데이터로 만들어서 학습하는 최종 메타 모델이 그것이다.  \n",
    "스태킹을 현실 모델에 적용하는 경우는 그렇게 많지 않으나 캐글과 같은 대회에서 상위권 순위를 차지하기 위해서 자주 사용된다."
   ]
  },
  {
   "cell_type": "code",
   "execution_count": null,
   "metadata": {
    "id": "wPYxAGs2q5D1"
   },
   "outputs": [],
   "source": [
    "import numpy as np\n",
    "\n",
    "from sklearn.neighbors import KNeighborsClassifier\n",
    "from sklearn.ensemble import RandomForestClassifier\n",
    "from sklearn.ensemble import AdaBoostClassifier\n",
    "from sklearn.tree import DecisionTreeClassifier\n",
    "from sklearn.linear_model import LogisticRegression\n",
    "\n",
    "from sklearn.datasets import load_breast_cancer\n",
    "from sklearn.model_selection import train_test_split\n",
    "from sklearn.metrics import accuracy_score\n",
    "\n",
    "cancer_data = load_breast_cancer()\n",
    "\n",
    "X_data = cancer_data.data\n",
    "y_label = cancer_data.target\n",
    "\n",
    "X_train, X_test, y_train, y_test = train_test_split(X_data, y_label, test_size=0.2, random_state=0)"
   ]
  },
  {
   "cell_type": "code",
   "execution_count": null,
   "metadata": {
    "id": "belzgMdQzvFb"
   },
   "outputs": [],
   "source": [
    "# 개별 ML 모델 생성\n",
    "knn_clf = KNeighborsClassifier(n_neighbors=4)\n",
    "rf_clf = RandomForestClassifier(n_estimators=100, random_state=0)\n",
    "dt_clf = DecisionTreeClassifier()\n",
    "ada_clf = AdaBoostClassifier(n_estimators=100)\n",
    "\n",
    "# 스태킹으로 만들어진 데이터 세트를 학습, 예측할 최종 모델\n",
    "lr_final = LogisticRegression(C=10)"
   ]
  },
  {
   "cell_type": "code",
   "execution_count": null,
   "metadata": {
    "colab": {
     "base_uri": "https://localhost:8080/"
    },
    "id": "JTKmhjBO1D20",
    "outputId": "1899add4-7e4a-431d-d075-8b370b7a5e8a"
   },
   "outputs": [
    {
     "data": {
      "text/plain": [
       "AdaBoostClassifier(algorithm='SAMME.R', base_estimator=None, learning_rate=1.0,\n",
       "                   n_estimators=100, random_state=None)"
      ]
     },
     "execution_count": 44,
     "metadata": {
      "tags": []
     },
     "output_type": "execute_result"
    }
   ],
   "source": [
    "# 개별 모델들을 학습\n",
    "knn_clf.fit(X_train, y_train)\n",
    "rf_clf.fit(X_train, y_train)\n",
    "dt_clf.fit(X_train, y_train)\n",
    "ada_clf.fit(X_train, y_train)"
   ]
  },
  {
   "cell_type": "code",
   "execution_count": null,
   "metadata": {
    "colab": {
     "base_uri": "https://localhost:8080/"
    },
    "id": "Y3CQGB-J1HR3",
    "outputId": "4ed01ba1-22b3-4483-aa6e-15ef4622dab3"
   },
   "outputs": [
    {
     "name": "stdout",
     "output_type": "stream",
     "text": [
      "KNN 정확도: 0.9211\n",
      "랜덤 포레스트 정확도: 0.9649\n",
      "결정 트리 정확도: 0.9123\n",
      "에이다부스트 정확도: 0.9561\n"
     ]
    }
   ],
   "source": [
    "# 학습된 개별 모델들이 각자 반환하는 예측 데이터 세트를 생성하고 개별 모델의 정확도 측정.\n",
    "knn_pred = knn_clf.predict(X_test)\n",
    "rf_pred = rf_clf.predict(X_test)\n",
    "dt_pred = dt_clf.predict(X_test)\n",
    "ada_pred = ada_clf.predict(X_test)\n",
    "\n",
    "print('KNN 정확도: {0:.4f}'.format(accuracy_score(y_test, knn_pred)))\n",
    "print('랜덤 포레스트 정확도: {0:.4f}'.format(accuracy_score(y_test, rf_pred)))\n",
    "print('결정 트리 정확도: {0:.4f}'.format(accuracy_score(y_test, dt_pred)))\n",
    "print('에이다부스트 정확도: {0:.4f}'.format(accuracy_score(y_test, ada_pred)))"
   ]
  },
  {
   "cell_type": "code",
   "execution_count": null,
   "metadata": {
    "colab": {
     "base_uri": "https://localhost:8080/"
    },
    "id": "uo4rqAZF3Bdn",
    "outputId": "a9fa1d7a-77b5-4261-897e-999bf241bb2a"
   },
   "outputs": [
    {
     "name": "stdout",
     "output_type": "stream",
     "text": [
      "(4, 114)\n",
      "(114, 4)\n"
     ]
    }
   ],
   "source": [
    "pred = np.array([knn_pred, rf_pred, dt_pred, ada_pred])\n",
    "print(pred.shape)\n",
    "\n",
    "# transpose를 이용해 행과 열의 위치 교환, 칼럼 레벨로 각 알고리즘의 예측 결과를 피처로 만듬\n",
    "pred = np.transpose(pred)\n",
    "print(pred.shape)"
   ]
  },
  {
   "cell_type": "code",
   "execution_count": null,
   "metadata": {
    "colab": {
     "base_uri": "https://localhost:8080/"
    },
    "id": "mrrkZoMV3aIi",
    "outputId": "75447577-963c-41fc-e1b6-8736402ca9e7"
   },
   "outputs": [
    {
     "name": "stdout",
     "output_type": "stream",
     "text": [
      "최종 메타 모델의 예측 정확도: 0.9649\n"
     ]
    }
   ],
   "source": [
    "lr_final.fit(pred, y_test)\n",
    "final = lr_final.predict(pred)\n",
    "\n",
    "print('최종 메타 모델의 예측 정확도: {0:.4f}'.format(accuracy_score(y_test, final)))"
   ]
  },
  {
   "cell_type": "markdown",
   "metadata": {
    "id": "jfiGE-0Rz36F"
   },
   "source": [
    "**CV 세트 기반의 스태킹**  \n",
    "CV 세트 기반의 스태킹은 개별 모델들이 각각 교차 검증으로 메타 모델을 위한 학습용 스태킹 데이터 생성과 예측을 위한  \n",
    "테스트용 스태킹 데이터를 생성한 뒤 이를 기반으로 메타 모델이 학습과 예측을 수행한다.\n",
    "다음과 같이 2단계의 스탭으로 구분될 수 있다.  \n",
    "\n",
    "\n",
    "*   스탭 1 : 각 모델별로 원본 학습/테스트 데이터를 예측한 결과 값을 기반으로 메타 모델을 위한 학습/테스트용 데이터를 생성\n",
    "*   스탭 2 : 스탭 1에서 생성한 개별 모델들이 생성한 학습용 데이터를 모두 스태킹 형태로 합쳐서 메타 모델이 예측할 최종  \n",
    "테스트 데이터 세트를 생성. 테스트 데이터도 같음.  \n",
    "메타 모델은 최종적으로 생성된 학습 데이터 세트와 원본 학습 데이터의 레이블을 기반으로 학습한 뒤,  \n",
    "최종적으로 생성된 테스트 데이터를 예측하고, 원본 테스트 데이터의 레이블 데이터를 기반으로 평가한다.\n",
    "\n"
   ]
  },
  {
   "cell_type": "code",
   "execution_count": null,
   "metadata": {
    "id": "KIf5lfUt3xUa"
   },
   "outputs": [],
   "source": [
    "from sklearn.model_selection import KFold\n",
    "from sklearn.metrics import mean_absolute_error\n",
    "\n",
    "# 개별 기반 모델에서 최종 메타 모델이 사용할 학습 및 테스트용 데이터를 생성하기 위한 함수\n",
    "def get_stacking_base_datasets(model, X_train_n, y_train_n, X_test_n, n_folds ):\n",
    "  # 지정된 n_folds값으로 KFold 생성.\n",
    "  kf = KFold(n_splits=n_folds, shuffle=False, random_state=0)\n",
    "  # 추후에 메타 모델이 사용할 학습 데이터 반환을 위한 넘파이 배열 초기화\n",
    "  train_fold_pred = np.zeros((X_train_n.shape[0], 1))\n",
    "  test_pred = np.zeros((X_test_n.shape[0], n_folds))\n",
    "  print(model.__class__.__name__, ' model 시작 ')\n",
    "\n",
    "  for folder_counter, (train_index, valid_index) in enumerate(kf.split(X_train_n)):\n",
    "    # 입력된 학습 데이터에서 기반 모델이 학습/예측할 폴드 데이터 세트 추출\n",
    "    print(' 폴드 세트: ', folder_counter,' 시작 ')\n",
    "    X_tr = X_train_n[train_index]\n",
    "    y_tr = y_train_n[train_index]\n",
    "    X_te = X_train_n[valid_index]\n",
    "\n",
    "    # 폴드 세트 내부에서 다시 만들어진 학습 데이터로 기반 모델의 학습 수행\n",
    "    model.fit(X_tr, y_tr)\n",
    "    # 폴드 세트 내부에서 다시 만들어진 검증 데이터로 기반 모델 예측 후 데이터 저장\n",
    "    train_fold_pred[valid_index, :] = model.predict(X_te).reshape(-1,1)\n",
    "    # 입력된 원본 테스트 데이터를 폴드 세트 내 학습된 기반 모델에서 예측 후 데이터 저장\n",
    "    test_pred[:, folder_counter] = model.predict(X_test_n)\n",
    "  \n",
    "  # 폴드 세트 내에서 원본 테스트 데이터를 예측한 데이터를 평균하여 테스트 데이터로 생성\n",
    "  test_pred_mean = np.mean(test_pred, axis=1).reshape(-1, 1)\n",
    "\n",
    "  # train_fold_pred는 최종 메타 모델이 사용하는 학습 데이터, test_pred_mean은 테스트 데이터\n",
    "  return train_fold_pred, test_pred_mean"
   ]
  },
  {
   "cell_type": "code",
   "execution_count": null,
   "metadata": {
    "colab": {
     "base_uri": "https://localhost:8080/"
    },
    "id": "WE5rw8pq9CyO",
    "outputId": "ab5b88f7-e8e4-4bd2-9dc9-0cd42c4cc056"
   },
   "outputs": [
    {
     "name": "stdout",
     "output_type": "stream",
     "text": [
      "KNeighborsClassifier  model 시작 \n",
      " 폴드 세트:  0  시작 \n",
      " 폴드 세트:  1  시작 \n",
      " 폴드 세트:  2  시작 \n",
      " 폴드 세트:  3  시작 \n",
      " 폴드 세트:  4  시작 \n",
      " 폴드 세트:  5  시작 \n",
      " 폴드 세트:  6  시작 \n",
      "RandomForestClassifier  model 시작 \n",
      " 폴드 세트:  0  시작 \n",
      " 폴드 세트:  1  시작 \n",
      " 폴드 세트:  2  시작 \n",
      " 폴드 세트:  3  시작 \n",
      " 폴드 세트:  4  시작 \n",
      " 폴드 세트:  5  시작 \n",
      " 폴드 세트:  6  시작 \n",
      "DecisionTreeClassifier  model 시작 \n",
      " 폴드 세트:  0  시작 \n",
      " 폴드 세트:  1  시작 \n",
      " 폴드 세트:  2  시작 \n",
      " 폴드 세트:  3  시작 \n",
      " 폴드 세트:  4  시작 \n",
      " 폴드 세트:  5  시작 \n",
      " 폴드 세트:  6  시작 \n",
      "AdaBoostClassifier  model 시작 \n",
      " 폴드 세트:  0  시작 \n",
      " 폴드 세트:  1  시작 \n",
      " 폴드 세트:  2  시작 \n",
      " 폴드 세트:  3  시작 \n",
      " 폴드 세트:  4  시작 \n",
      " 폴드 세트:  5  시작 \n",
      " 폴드 세트:  6  시작 \n",
      "원본 학습 피처 데이터 shape : (455, 30) 원본 테스트 피처 Shape:  (114, 30)\n",
      "스태킹 학습 피처 데이터 Shape : (455, 4) 스태킹 테스트 피처 데이터 Shape : (114, 4)\n"
     ]
    }
   ],
   "source": [
    "knn_train, knn_test = get_stacking_base_datasets(knn_clf, X_train, y_train, X_test, 7)\n",
    "rf_train, rf_test = get_stacking_base_datasets(rf_clf, X_train, y_train, X_test, 7)\n",
    "dt_train, dt_test = get_stacking_base_datasets(dt_clf, X_train, y_train, X_test, 7)\n",
    "ada_train, ada_test = get_stacking_base_datasets(ada_clf, X_train, y_train, X_test, 7)\n",
    "\n",
    "Stack_final_X_train = np.concatenate((knn_train, rf_train, dt_train, ada_train), axis=1)\n",
    "Stack_final_X_test = np.concatenate((knn_test, rf_test, dt_test, ada_test), axis=1)\n",
    "print('원본 학습 피처 데이터 shape :', X_train.shape, '원본 테스트 피처 Shape: ', X_test.shape)\n",
    "print('스태킹 학습 피처 데이터 Shape :', Stack_final_X_train.shape,\n",
    "      '스태킹 테스트 피처 데이터 Shape :', Stack_final_X_test.shape)"
   ]
  },
  {
   "cell_type": "code",
   "execution_count": null,
   "metadata": {
    "colab": {
     "base_uri": "https://localhost:8080/"
    },
    "id": "Hsuc5H8owGc1",
    "outputId": "e3e8cafd-f262-42dd-d722-f495325f23c7"
   },
   "outputs": [
    {
     "name": "stdout",
     "output_type": "stream",
     "text": [
      "최종 메타 모델의 예측 정확도 :0.9737\n"
     ]
    }
   ],
   "source": [
    "lr_final.fit(Stack_final_X_train, y_train)\n",
    "stack_final = lr_final.predict(Stack_final_X_test)\n",
    "\n",
    "print('최종 메타 모델의 예측 정확도 :{0:.4f}'.format(accuracy_score(y_test, stack_final)))"
   ]
  }
 ],
 "metadata": {
  "colab": {
   "name": "04-09 분류 실습.ipynb",
   "provenance": []
  },
  "kernelspec": {
   "display_name": "Python 3",
   "language": "python",
   "name": "python3"
  },
  "language_info": {
   "codemirror_mode": {
    "name": "ipython",
    "version": 3
   },
   "file_extension": ".py",
   "mimetype": "text/x-python",
   "name": "python",
   "nbconvert_exporter": "python",
   "pygments_lexer": "ipython3",
   "version": "3.8.3"
  }
 },
 "nbformat": 4,
 "nbformat_minor": 1
}
